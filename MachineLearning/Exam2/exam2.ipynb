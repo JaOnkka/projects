{
 "cells": [
  {
   "cell_type": "markdown",
   "id": "e442e5d5-3746-4b67-b3a8-f2070dd641a0",
   "metadata": {},
   "source": [
    "Jake Onkka\n",
    "https://www.kaggle.com/datasets/anthonytherrien/gladiator-combat-records-and-profiles-dataset"
   ]
  },
  {
   "cell_type": "code",
   "execution_count": 1,
   "id": "02b6a900-1550-491b-9c5b-1a11693c7c2a",
   "metadata": {},
   "outputs": [],
   "source": [
    "import pandas as pd\n",
    "import numpy as np\n",
    "import math\n",
    "from sklearn.pipeline import Pipeline\n",
    "from sklearn.metrics import balanced_accuracy_score\n",
    "from sklearn.preprocessing import MinMaxScaler\n",
    "from sklearn.ensemble import GradientBoostingClassifier\n",
    "from sklearn.model_selection import GridSearchCV"
   ]
  },
  {
   "cell_type": "code",
   "execution_count": 2,
   "id": "d69ddfcc-4a45-431a-a02b-eb12f71d9993",
   "metadata": {},
   "outputs": [
    {
     "name": "stdout",
     "output_type": "stream",
     "text": [
      "        Age  Birth Year  Height  Weight  Wins  Losses  Public Favor  \\\n",
      "360044   31         224     148      78     8       1      0.780466   \n",
      "399960   38         234     169      64    20       3      0.862680   \n",
      "398256   37         235     179      90    14       2      0.990932   \n",
      "497081   24         289     174     105     5       0      0.718914   \n",
      "137368   43         100     178      71     7       2      0.718894   \n",
      "...     ...         ...     ...     ...   ...     ...           ...   \n",
      "111488   33          94     179      80     8       3      0.545995   \n",
      "704005   41         347     182      59     7       0      0.735550   \n",
      "385436   31         235     162      75     4       1      0.488531   \n",
      "656497   24         347     178     114     4       1      0.518854   \n",
      "670608   21         356     169     104     2       0      0.562891   \n",
      "\n",
      "        Mental Resilience  Battle Experience  Origin_Gaul  ...  \\\n",
      "360044           6.187498                  9        False  ...   \n",
      "399960           1.056799                 23        False  ...   \n",
      "398256           5.571879                 16        False  ...   \n",
      "497081           3.781393                  5        False  ...   \n",
      "137368           0.900667                  9        False  ...   \n",
      "...                   ...                ...          ...  ...   \n",
      "111488           7.132669                 11        False  ...   \n",
      "704005           5.828848                  7        False  ...   \n",
      "385436           3.741499                  5        False  ...   \n",
      "656497           5.667097                  5        False  ...   \n",
      "670608           8.245200                  2        False  ...   \n",
      "\n",
      "        Battle Strategy_Aggressive  Battle Strategy_Balanced  \\\n",
      "360044                       False                     False   \n",
      "399960                       False                      True   \n",
      "398256                        True                     False   \n",
      "497081                       False                      True   \n",
      "137368                        True                     False   \n",
      "...                            ...                       ...   \n",
      "111488                       False                      True   \n",
      "704005                        True                     False   \n",
      "385436                       False                      True   \n",
      "656497                       False                      True   \n",
      "670608                       False                      True   \n",
      "\n",
      "        Battle Strategy_Defensive  Social Standing_High  Social Standing_Low  \\\n",
      "360044                       True                 False                False   \n",
      "399960                      False                  True                False   \n",
      "398256                      False                  True                False   \n",
      "497081                      False                 False                 True   \n",
      "137368                      False                 False                 True   \n",
      "...                           ...                   ...                  ...   \n",
      "111488                      False                 False                False   \n",
      "704005                      False                  True                False   \n",
      "385436                      False                 False                False   \n",
      "656497                      False                 False                 True   \n",
      "670608                      False                 False                False   \n",
      "\n",
      "        Social Standing_Medium  Crowd Appeal Techniques_Charismatic  \\\n",
      "360044                    True                                False   \n",
      "399960                   False                                False   \n",
      "398256                   False                                False   \n",
      "497081                   False                                 True   \n",
      "137368                   False                                 True   \n",
      "...                        ...                                  ...   \n",
      "111488                    True                                False   \n",
      "704005                   False                                False   \n",
      "385436                    True                                 True   \n",
      "656497                   False                                False   \n",
      "670608                    True                                False   \n",
      "\n",
      "        Crowd Appeal Techniques_Flamboyant  Crowd Appeal Techniques_Humble  \\\n",
      "360044                               False                            True   \n",
      "399960                                True                           False   \n",
      "398256                               False                            True   \n",
      "497081                               False                           False   \n",
      "137368                               False                           False   \n",
      "...                                    ...                             ...   \n",
      "111488                               False                           False   \n",
      "704005                               False                            True   \n",
      "385436                               False                           False   \n",
      "656497                               False                            True   \n",
      "670608                               False                           False   \n",
      "\n",
      "        Crowd Appeal Techniques_Intimidating  \n",
      "360044                                 False  \n",
      "399960                                 False  \n",
      "398256                                 False  \n",
      "497081                                 False  \n",
      "137368                                 False  \n",
      "...                                      ...  \n",
      "111488                                  True  \n",
      "704005                                 False  \n",
      "385436                                 False  \n",
      "656497                                 False  \n",
      "670608                                  True  \n",
      "\n",
      "[73757 rows x 81 columns]\n",
      "360044     True\n",
      "399960     True\n",
      "398256    False\n",
      "497081     True\n",
      "137368    False\n",
      "          ...  \n",
      "111488     True\n",
      "704005     True\n",
      "385436    False\n",
      "656497    False\n",
      "670608    False\n",
      "Name: Survived, Length: 73757, dtype: bool\n"
     ]
    }
   ],
   "source": [
    "data = pd.read_csv('gladiator_data.csv')\n",
    "#there is over 730,000 rows, with hyperparameters the pipeline runs 6 times\n",
    "#for the purposes of this assignment, I just take a sample of the data to use for my xs and ys so the runtime is around 1.5 minutes\n",
    "data = data.sample(frac = .1) \n",
    "data.fillna(value=0,inplace=True)\n",
    "\n",
    "xs = data.drop(columns = [\"Survived\", \"Name\"])\n",
    "ys = data['Survived']\n",
    "xs = pd.get_dummies(xs)\n",
    "print(xs)\n",
    "print(ys)"
   ]
  },
  {
   "cell_type": "code",
   "execution_count": 3,
   "id": "24b6f765-2067-4a00-a804-66ed12e05d14",
   "metadata": {},
   "outputs": [
    {
     "data": {
      "text/html": [
       "<style>#sk-container-id-1 {color: black;}#sk-container-id-1 pre{padding: 0;}#sk-container-id-1 div.sk-toggleable {background-color: white;}#sk-container-id-1 label.sk-toggleable__label {cursor: pointer;display: block;width: 100%;margin-bottom: 0;padding: 0.3em;box-sizing: border-box;text-align: center;}#sk-container-id-1 label.sk-toggleable__label-arrow:before {content: \"▸\";float: left;margin-right: 0.25em;color: #696969;}#sk-container-id-1 label.sk-toggleable__label-arrow:hover:before {color: black;}#sk-container-id-1 div.sk-estimator:hover label.sk-toggleable__label-arrow:before {color: black;}#sk-container-id-1 div.sk-toggleable__content {max-height: 0;max-width: 0;overflow: hidden;text-align: left;background-color: #f0f8ff;}#sk-container-id-1 div.sk-toggleable__content pre {margin: 0.2em;color: black;border-radius: 0.25em;background-color: #f0f8ff;}#sk-container-id-1 input.sk-toggleable__control:checked~div.sk-toggleable__content {max-height: 200px;max-width: 100%;overflow: auto;}#sk-container-id-1 input.sk-toggleable__control:checked~label.sk-toggleable__label-arrow:before {content: \"▾\";}#sk-container-id-1 div.sk-estimator input.sk-toggleable__control:checked~label.sk-toggleable__label {background-color: #d4ebff;}#sk-container-id-1 div.sk-label input.sk-toggleable__control:checked~label.sk-toggleable__label {background-color: #d4ebff;}#sk-container-id-1 input.sk-hidden--visually {border: 0;clip: rect(1px 1px 1px 1px);clip: rect(1px, 1px, 1px, 1px);height: 1px;margin: -1px;overflow: hidden;padding: 0;position: absolute;width: 1px;}#sk-container-id-1 div.sk-estimator {font-family: monospace;background-color: #f0f8ff;border: 1px dotted black;border-radius: 0.25em;box-sizing: border-box;margin-bottom: 0.5em;}#sk-container-id-1 div.sk-estimator:hover {background-color: #d4ebff;}#sk-container-id-1 div.sk-parallel-item::after {content: \"\";width: 100%;border-bottom: 1px solid gray;flex-grow: 1;}#sk-container-id-1 div.sk-label:hover label.sk-toggleable__label {background-color: #d4ebff;}#sk-container-id-1 div.sk-serial::before {content: \"\";position: absolute;border-left: 1px solid gray;box-sizing: border-box;top: 0;bottom: 0;left: 50%;z-index: 0;}#sk-container-id-1 div.sk-serial {display: flex;flex-direction: column;align-items: center;background-color: white;padding-right: 0.2em;padding-left: 0.2em;position: relative;}#sk-container-id-1 div.sk-item {position: relative;z-index: 1;}#sk-container-id-1 div.sk-parallel {display: flex;align-items: stretch;justify-content: center;background-color: white;position: relative;}#sk-container-id-1 div.sk-item::before, #sk-container-id-1 div.sk-parallel-item::before {content: \"\";position: absolute;border-left: 1px solid gray;box-sizing: border-box;top: 0;bottom: 0;left: 50%;z-index: -1;}#sk-container-id-1 div.sk-parallel-item {display: flex;flex-direction: column;z-index: 1;position: relative;background-color: white;}#sk-container-id-1 div.sk-parallel-item:first-child::after {align-self: flex-end;width: 50%;}#sk-container-id-1 div.sk-parallel-item:last-child::after {align-self: flex-start;width: 50%;}#sk-container-id-1 div.sk-parallel-item:only-child::after {width: 0;}#sk-container-id-1 div.sk-dashed-wrapped {border: 1px dashed gray;margin: 0 0.4em 0.5em 0.4em;box-sizing: border-box;padding-bottom: 0.4em;background-color: white;}#sk-container-id-1 div.sk-label label {font-family: monospace;font-weight: bold;display: inline-block;line-height: 1.2em;}#sk-container-id-1 div.sk-label-container {text-align: center;}#sk-container-id-1 div.sk-container {/* jupyter's `normalize.less` sets `[hidden] { display: none; }` but bootstrap.min.css set `[hidden] { display: none !important; }` so we also need the `!important` here to be able to override the default hidden behavior on the sphinx rendered scikit-learn.org. See: https://github.com/scikit-learn/scikit-learn/issues/21755 */display: inline-block !important;position: relative;}#sk-container-id-1 div.sk-text-repr-fallback {display: none;}</style><div id=\"sk-container-id-1\" class=\"sk-top-container\"><div class=\"sk-text-repr-fallback\"><pre>GridSearchCV(estimator=Pipeline(steps=[(&#x27;scaler&#x27;, MinMaxScaler()),\n",
       "                                       (&#x27;gradient_boosting&#x27;,\n",
       "                                        GradientBoostingClassifier())]),\n",
       "             n_jobs=-1,\n",
       "             param_grid={&#x27;gradient_boosting__max_depth&#x27;: [3, 5, 7],\n",
       "                         &#x27;gradient_boosting__n_estimators&#x27;: [5, 30]},\n",
       "             scoring=&#x27;balanced_accuracy&#x27;)</pre><b>In a Jupyter environment, please rerun this cell to show the HTML representation or trust the notebook. <br />On GitHub, the HTML representation is unable to render, please try loading this page with nbviewer.org.</b></div><div class=\"sk-container\" hidden><div class=\"sk-item sk-dashed-wrapped\"><div class=\"sk-label-container\"><div class=\"sk-label sk-toggleable\"><input class=\"sk-toggleable__control sk-hidden--visually\" id=\"sk-estimator-id-1\" type=\"checkbox\" ><label for=\"sk-estimator-id-1\" class=\"sk-toggleable__label sk-toggleable__label-arrow\">GridSearchCV</label><div class=\"sk-toggleable__content\"><pre>GridSearchCV(estimator=Pipeline(steps=[(&#x27;scaler&#x27;, MinMaxScaler()),\n",
       "                                       (&#x27;gradient_boosting&#x27;,\n",
       "                                        GradientBoostingClassifier())]),\n",
       "             n_jobs=-1,\n",
       "             param_grid={&#x27;gradient_boosting__max_depth&#x27;: [3, 5, 7],\n",
       "                         &#x27;gradient_boosting__n_estimators&#x27;: [5, 30]},\n",
       "             scoring=&#x27;balanced_accuracy&#x27;)</pre></div></div></div><div class=\"sk-parallel\"><div class=\"sk-parallel-item\"><div class=\"sk-item\"><div class=\"sk-label-container\"><div class=\"sk-label sk-toggleable\"><input class=\"sk-toggleable__control sk-hidden--visually\" id=\"sk-estimator-id-2\" type=\"checkbox\" ><label for=\"sk-estimator-id-2\" class=\"sk-toggleable__label sk-toggleable__label-arrow\">estimator: Pipeline</label><div class=\"sk-toggleable__content\"><pre>Pipeline(steps=[(&#x27;scaler&#x27;, MinMaxScaler()),\n",
       "                (&#x27;gradient_boosting&#x27;, GradientBoostingClassifier())])</pre></div></div></div><div class=\"sk-serial\"><div class=\"sk-item\"><div class=\"sk-serial\"><div class=\"sk-item\"><div class=\"sk-estimator sk-toggleable\"><input class=\"sk-toggleable__control sk-hidden--visually\" id=\"sk-estimator-id-3\" type=\"checkbox\" ><label for=\"sk-estimator-id-3\" class=\"sk-toggleable__label sk-toggleable__label-arrow\">MinMaxScaler</label><div class=\"sk-toggleable__content\"><pre>MinMaxScaler()</pre></div></div></div><div class=\"sk-item\"><div class=\"sk-estimator sk-toggleable\"><input class=\"sk-toggleable__control sk-hidden--visually\" id=\"sk-estimator-id-4\" type=\"checkbox\" ><label for=\"sk-estimator-id-4\" class=\"sk-toggleable__label sk-toggleable__label-arrow\">GradientBoostingClassifier</label><div class=\"sk-toggleable__content\"><pre>GradientBoostingClassifier()</pre></div></div></div></div></div></div></div></div></div></div></div></div>"
      ],
      "text/plain": [
       "GridSearchCV(estimator=Pipeline(steps=[('scaler', MinMaxScaler()),\n",
       "                                       ('gradient_boosting',\n",
       "                                        GradientBoostingClassifier())]),\n",
       "             n_jobs=-1,\n",
       "             param_grid={'gradient_boosting__max_depth': [3, 5, 7],\n",
       "                         'gradient_boosting__n_estimators': [5, 30]},\n",
       "             scoring='balanced_accuracy')"
      ]
     },
     "execution_count": 3,
     "metadata": {},
     "output_type": "execute_result"
    }
   ],
   "source": [
    "gradientboosting_pipeline = Pipeline([\n",
    "    ('scaler',MinMaxScaler()),\n",
    "    ('gradient_boosting', GradientBoostingClassifier())\n",
    "])\n",
    "\n",
    "gradientboosting_grid = {\n",
    "    'gradient_boosting__n_estimators': [5,30],  #number of boosting stages, larger number tends to do better\n",
    "    'gradient_boosting__max_depth': [3,5,7],  #limits number of nodes in tree\n",
    "}\n",
    "gradientboosting_search = GridSearchCV(gradientboosting_pipeline, gradientboosting_grid, scoring='balanced_accuracy', n_jobs=-1)\n",
    "gradientboosting_search.fit(xs, ys)\n"
   ]
  },
  {
   "cell_type": "code",
   "execution_count": 4,
   "id": "dbfe621a-63c2-4942-89c7-75984117e1ca",
   "metadata": {},
   "outputs": [
    {
     "name": "stdout",
     "output_type": "stream",
     "text": [
      "Balanced_Accuracy: 0.8416056186858321\n",
      "Best params: {'gradient_boosting__max_depth': 7, 'gradient_boosting__n_estimators': 30}\n",
      "\n"
     ]
    }
   ],
   "source": [
    "gradientboosting_params = gradientboosting_search.best_params_\n",
    "gradientboosting_score = gradientboosting_search.best_score_\n",
    "print(f\"Balanced_Accuracy: {gradientboosting_score}\")\n",
    "print(f\"Best params: {gradientboosting_params}\\n\")"
   ]
  },
  {
   "cell_type": "markdown",
   "id": "ea676f0f-3e6d-4b97-aedb-84030936ed73",
   "metadata": {},
   "source": [
    "Reflections:\n",
    "If I used a train/test split instead of cross validation I would expect a lot more variance with my score metric. A single train/test split has too much randomness to know whether or not the test and train sets are balanced.\n",
    "\n",
    "I chose balanced_accuracy as my metric because there may be some imbalance in the dataset. It's the average recall which works great for classifying a simple boolean target.\n",
    "\n",
    "For the hyperparameters I'm not surprised that n_estimators is better with a higher number since more trees will allow it to learn more. I'm also not suprised that higher values for max_depth are better because there are a lot of features that I believe have important relations to the target. So more complex trees would be able to detect more of those relations for a better score."
   ]
  }
 ],
 "metadata": {
  "kernelspec": {
   "display_name": "machine learning",
   "language": "python",
   "name": "machine_learning"
  },
  "language_info": {
   "codemirror_mode": {
    "name": "ipython",
    "version": 3
   },
   "file_extension": ".py",
   "mimetype": "text/x-python",
   "name": "python",
   "nbconvert_exporter": "python",
   "pygments_lexer": "ipython3",
   "version": "3.11.5"
  }
 },
 "nbformat": 4,
 "nbformat_minor": 5
}
