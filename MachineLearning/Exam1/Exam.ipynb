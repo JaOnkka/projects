{
 "cells": [
  {
   "cell_type": "markdown",
   "id": "4d50d677-ba4b-462d-93bf-3b649103ab12",
   "metadata": {},
   "source": [
    "Jake Onkka\n",
    "https://www.kaggle.com/datasets/aadhavvignesh/pubg-weapon-stats"
   ]
  },
  {
   "cell_type": "code",
   "execution_count": 1,
   "id": "4dda1375-25da-4080-9f9c-3414e7ad9520",
   "metadata": {},
   "outputs": [],
   "source": [
    "import pandas as pd\n",
    "import numpy as np\n",
    "import math\n",
    "from sklearn.pipeline import Pipeline\n",
    "from sklearn.base import ClassifierMixin, BaseEstimator\n",
    "from sklearn.pipeline import Pipeline\n",
    "from sklearn.preprocessing import MinMaxScaler\n",
    "from sklearn.metrics import accuracy_score"
   ]
  },
  {
   "cell_type": "code",
   "execution_count": 2,
   "id": "4372cc55-a00a-4105-a613-44257f6c0a8d",
   "metadata": {},
   "outputs": [
    {
     "name": "stdout",
     "output_type": "stream",
     "text": [
      "    Bullet Type  Damage  Magazine Capacity  Range  Bullet Speed  Rate of Fire  \\\n",
      "4          5.56      43                 30  600.0         880.0         0.086   \n",
      "12         9.00      31                 19   50.0         300.0         0.055   \n",
      "..          ...     ...                ...    ...           ...           ...   \n",
      "8          5.56      43                 30  600.0         880.0         0.086   \n",
      "13         9.00      26                 25  200.0         350.0         0.048   \n",
      "\n",
      "    Shots to Kill (Chest)  Shots to Kill (Head)  Damage Per Second  BDMG_0  \\\n",
      "4                       4                     2              502.0    41.0   \n",
      "12                      5                     3              569.0    31.0   \n",
      "..                    ...                   ...                ...     ...   \n",
      "8                       4                     2              502.0    41.0   \n",
      "13                      7                     4              542.0    26.0   \n",
      "\n",
      "    BDMG_1  BDMG_2  BDMG_3  HDMG_0  HDMG_1  HDMG_2  HDMG_3  \n",
      "4     30.1    25.8    19.3   101.0    70.7    60.6    45.4  \n",
      "12    21.7    18.5    13.9    55.8    39.0    33.4    25.1  \n",
      "..     ...     ...     ...     ...     ...     ...     ...  \n",
      "8     30.1    25.8    19.3   101.0    70.7    60.6    45.4  \n",
      "13    18.2    15.6    11.7    46.8    32.7    28.0    21.0  \n",
      "\n",
      "[31 rows x 17 columns]\n",
      "4      Assault Rifle\n",
      "12    Submachine Gun\n",
      "           ...      \n",
      "8      Assault Rifle\n",
      "13    Submachine Gun\n",
      "Name: Weapon Type, Length: 31, dtype: object\n",
      "    Bullet Type  Damage  Magazine Capacity  Range  Bullet Speed  Rate of Fire  \\\n",
      "2          7.62      47                 30  400.0         715.0         0.086   \n",
      "9          5.56      43                 30  600.0         880.0         0.096   \n",
      "..          ...     ...                ...    ...           ...           ...   \n",
      "33         0.45      55                  6   25.0           0.0         0.250   \n",
      "35         9.00      35                  7   25.0         380.0         0.140   \n",
      "\n",
      "    Shots to Kill (Chest)  Shots to Kill (Head)  Damage Per Second  BDMG_0  \\\n",
      "2                       4                     2              547.0    46.0   \n",
      "9                       4                     2              466.0    41.0   \n",
      "..                    ...                   ...                ...     ...   \n",
      "33                      4                     2              220.0    54.8   \n",
      "35                      5                     3              259.0    34.5   \n",
      "\n",
      "    BDMG_1  BDMG_2  BDMG_3  HDMG_0  HDMG_1  HDMG_2  HDMG_3  \n",
      "2     32.9    28.2    21.1   110.4    77.3    66.2    49.7  \n",
      "9     30.1    25.8    19.3   101.0    70.7    60.6    45.4  \n",
      "..     ...     ...     ...     ...     ...     ...     ...  \n",
      "33    38.3    32.8    24.6   109.6    76.7    65.7    49.3  \n",
      "35    24.2    20.7    15.5    69.1    48.4    41.4    31.1  \n",
      "\n",
      "[13 rows x 17 columns]\n",
      "2     Assault Rifle\n",
      "9     Assault Rifle\n",
      "          ...      \n",
      "33           Pistol\n",
      "35           Pistol\n",
      "Name: Weapon Type, Length: 13, dtype: object\n"
     ]
    }
   ],
   "source": [
    "data = pd.read_csv('pubg-weapon-stats.csv')\n",
    "data.fillna(value=0,inplace=True)\n",
    "columns_to_drop = [\"Weapon Name\", \"Fire Mode\"] #get rid of categorical values\n",
    "data = data.drop(columns = columns_to_drop)\n",
    "train = data.sample(frac = 0.70)\n",
    "test = data.drop(train.index)\n",
    "train_xs = train.drop(columns = \"Weapon Type\")\n",
    "train_ys = train['Weapon Type']\n",
    "test_xs = test.drop(columns = \"Weapon Type\")\n",
    "test_ys = test['Weapon Type']\n",
    "pd.set_option('display.max_rows',5)\n",
    "\n",
    "print(train_xs)\n",
    "print(train_ys)\n",
    "print(test_xs)\n",
    "print(test_ys)"
   ]
  },
  {
   "cell_type": "code",
   "execution_count": 3,
   "id": "d47121a7-630f-4ff7-9e5a-b18469736748",
   "metadata": {},
   "outputs": [
    {
     "data": {
      "text/html": [
       "<style>#sk-container-id-1 {color: black;}#sk-container-id-1 pre{padding: 0;}#sk-container-id-1 div.sk-toggleable {background-color: white;}#sk-container-id-1 label.sk-toggleable__label {cursor: pointer;display: block;width: 100%;margin-bottom: 0;padding: 0.3em;box-sizing: border-box;text-align: center;}#sk-container-id-1 label.sk-toggleable__label-arrow:before {content: \"▸\";float: left;margin-right: 0.25em;color: #696969;}#sk-container-id-1 label.sk-toggleable__label-arrow:hover:before {color: black;}#sk-container-id-1 div.sk-estimator:hover label.sk-toggleable__label-arrow:before {color: black;}#sk-container-id-1 div.sk-toggleable__content {max-height: 0;max-width: 0;overflow: hidden;text-align: left;background-color: #f0f8ff;}#sk-container-id-1 div.sk-toggleable__content pre {margin: 0.2em;color: black;border-radius: 0.25em;background-color: #f0f8ff;}#sk-container-id-1 input.sk-toggleable__control:checked~div.sk-toggleable__content {max-height: 200px;max-width: 100%;overflow: auto;}#sk-container-id-1 input.sk-toggleable__control:checked~label.sk-toggleable__label-arrow:before {content: \"▾\";}#sk-container-id-1 div.sk-estimator input.sk-toggleable__control:checked~label.sk-toggleable__label {background-color: #d4ebff;}#sk-container-id-1 div.sk-label input.sk-toggleable__control:checked~label.sk-toggleable__label {background-color: #d4ebff;}#sk-container-id-1 input.sk-hidden--visually {border: 0;clip: rect(1px 1px 1px 1px);clip: rect(1px, 1px, 1px, 1px);height: 1px;margin: -1px;overflow: hidden;padding: 0;position: absolute;width: 1px;}#sk-container-id-1 div.sk-estimator {font-family: monospace;background-color: #f0f8ff;border: 1px dotted black;border-radius: 0.25em;box-sizing: border-box;margin-bottom: 0.5em;}#sk-container-id-1 div.sk-estimator:hover {background-color: #d4ebff;}#sk-container-id-1 div.sk-parallel-item::after {content: \"\";width: 100%;border-bottom: 1px solid gray;flex-grow: 1;}#sk-container-id-1 div.sk-label:hover label.sk-toggleable__label {background-color: #d4ebff;}#sk-container-id-1 div.sk-serial::before {content: \"\";position: absolute;border-left: 1px solid gray;box-sizing: border-box;top: 0;bottom: 0;left: 50%;z-index: 0;}#sk-container-id-1 div.sk-serial {display: flex;flex-direction: column;align-items: center;background-color: white;padding-right: 0.2em;padding-left: 0.2em;position: relative;}#sk-container-id-1 div.sk-item {position: relative;z-index: 1;}#sk-container-id-1 div.sk-parallel {display: flex;align-items: stretch;justify-content: center;background-color: white;position: relative;}#sk-container-id-1 div.sk-item::before, #sk-container-id-1 div.sk-parallel-item::before {content: \"\";position: absolute;border-left: 1px solid gray;box-sizing: border-box;top: 0;bottom: 0;left: 50%;z-index: -1;}#sk-container-id-1 div.sk-parallel-item {display: flex;flex-direction: column;z-index: 1;position: relative;background-color: white;}#sk-container-id-1 div.sk-parallel-item:first-child::after {align-self: flex-end;width: 50%;}#sk-container-id-1 div.sk-parallel-item:last-child::after {align-self: flex-start;width: 50%;}#sk-container-id-1 div.sk-parallel-item:only-child::after {width: 0;}#sk-container-id-1 div.sk-dashed-wrapped {border: 1px dashed gray;margin: 0 0.4em 0.5em 0.4em;box-sizing: border-box;padding-bottom: 0.4em;background-color: white;}#sk-container-id-1 div.sk-label label {font-family: monospace;font-weight: bold;display: inline-block;line-height: 1.2em;}#sk-container-id-1 div.sk-label-container {text-align: center;}#sk-container-id-1 div.sk-container {/* jupyter's `normalize.less` sets `[hidden] { display: none; }` but bootstrap.min.css set `[hidden] { display: none !important; }` so we also need the `!important` here to be able to override the default hidden behavior on the sphinx rendered scikit-learn.org. See: https://github.com/scikit-learn/scikit-learn/issues/21755 */display: inline-block !important;position: relative;}#sk-container-id-1 div.sk-text-repr-fallback {display: none;}</style><div id=\"sk-container-id-1\" class=\"sk-top-container\"><div class=\"sk-text-repr-fallback\"><pre>Pipeline(steps=[(&#x27;scaler&#x27;, MinMaxScaler()), (&#x27;classify&#x27;, myClassifier())])</pre><b>In a Jupyter environment, please rerun this cell to show the HTML representation or trust the notebook. <br />On GitHub, the HTML representation is unable to render, please try loading this page with nbviewer.org.</b></div><div class=\"sk-container\" hidden><div class=\"sk-item sk-dashed-wrapped\"><div class=\"sk-label-container\"><div class=\"sk-label sk-toggleable\"><input class=\"sk-toggleable__control sk-hidden--visually\" id=\"sk-estimator-id-1\" type=\"checkbox\" ><label for=\"sk-estimator-id-1\" class=\"sk-toggleable__label sk-toggleable__label-arrow\">Pipeline</label><div class=\"sk-toggleable__content\"><pre>Pipeline(steps=[(&#x27;scaler&#x27;, MinMaxScaler()), (&#x27;classify&#x27;, myClassifier())])</pre></div></div></div><div class=\"sk-serial\"><div class=\"sk-item\"><div class=\"sk-estimator sk-toggleable\"><input class=\"sk-toggleable__control sk-hidden--visually\" id=\"sk-estimator-id-2\" type=\"checkbox\" ><label for=\"sk-estimator-id-2\" class=\"sk-toggleable__label sk-toggleable__label-arrow\">MinMaxScaler</label><div class=\"sk-toggleable__content\"><pre>MinMaxScaler()</pre></div></div></div><div class=\"sk-item\"><div class=\"sk-estimator sk-toggleable\"><input class=\"sk-toggleable__control sk-hidden--visually\" id=\"sk-estimator-id-3\" type=\"checkbox\" ><label for=\"sk-estimator-id-3\" class=\"sk-toggleable__label sk-toggleable__label-arrow\">myClassifier</label><div class=\"sk-toggleable__content\"><pre>myClassifier()</pre></div></div></div></div></div></div></div>"
      ],
      "text/plain": [
       "Pipeline(steps=[('scaler', MinMaxScaler()), ('classify', myClassifier())])"
      ]
     },
     "execution_count": 3,
     "metadata": {},
     "output_type": "execute_result"
    }
   ],
   "source": [
    "class myClassifier(BaseEstimator, ClassifierMixin):\n",
    "    def __init__(self):\n",
    "        self.train_xs = None\n",
    "        self.train_ys = None\n",
    "        self.class_count = {}\n",
    "        self.alpha = 0.01\n",
    "        self.D = 9\n",
    "    def countClass(self):\n",
    "        count = (self.train_ys['Weapon Type'].value_counts())\n",
    "        self.class_count = count\n",
    "        #print(self.class_count[x])\n",
    "    def p_conditional(self, feature, value, weapon_type):\n",
    "        count = self.class_count[weapon_type]\n",
    "        #print(weapon_type)\n",
    "        train = pd.concat([self.train_xs, self.train_ys], axis=1)\n",
    "\n",
    "        count_feature_given_class = train[(train['Weapon Type'] == weapon_type) & (train[feature] == value)].shape[0] \n",
    "        val = (count_feature_given_class + self.alpha) / (count + (self.alpha * self.D))\n",
    "        return val\n",
    "    def p_class(self, weapon_type):\n",
    "        numerator = self.class_count[weapon_type]\n",
    "        denominator = len(self.train_xs)\n",
    "        return numerator / denominator\n",
    "    def fit(self, X, y):\n",
    "        train_xs = pd.DataFrame(X, columns = ['Bullet Type', 'Damage', 'Magazine Capacity', 'Range', 'Bullet Speed', 'Rate of Fire', 'Shots to Kill (Chest)', 'Shots to Kill (Head)', 'Damage Per Second',  \"BDMG_0\", \"BDMG_1\", \"BDMG_2\", \"BDMG_3\", \"HDMG_0\", \"HDMG_1\", \"HDMG_2\", \"HDMG_3\"])\n",
    "        train_ys = pd.DataFrame(y, columns = ['Weapon Type'])\n",
    "        self.train_xs = train_xs\n",
    "        self.train_ys = train_ys\n",
    "        #print(train_ys)\n",
    "        self.countClass()\n",
    "        \n",
    "\n",
    "    def predict(self, X):\n",
    "        predictions = []\n",
    "        nb = 0\n",
    "        test_xs = pd.DataFrame(X, columns = ['Bullet Type', 'Damage', 'Magazine Capacity', 'Range', 'Bullet Speed', 'Rate of Fire', 'Shots to Kill (Chest)', 'Shots to Kill (Head)', 'Damage Per Second',  \"BDMG_0\", \"BDMG_1\", \"BDMG_2\", \"BDMG_3\", \"HDMG_0\", \"HDMG_1\", \"HDMG_2\", \"HDMG_3\"])\n",
    "        for index, row in test_xs.iterrows():\n",
    "            best_class = None\n",
    "            best_probability = -math.inf\n",
    "            denom = 0\n",
    "            for weapon_type, count in self.class_count.items(): #for each weapon type, or class\n",
    "                nb = math.log2(self.p_class(weapon_type))\n",
    "                for feature in self.train_xs.columns:  #now for every feature, add up totals\n",
    "                    value = row[feature]\n",
    "                    nb += math.log2(self.p_conditional(feature,value,weapon_type))\n",
    "                denom += nb\n",
    "                nb = math.pow(2,nb)\n",
    "                denom = math.pow(2,nb)\n",
    "                nb = nb / denom\n",
    "                #print(weapon_type)\n",
    "                #print(nb)\n",
    "                if nb > best_probability:\n",
    "                    best_probability = nb\n",
    "                    best_class = weapon_type            \n",
    "            predictions.append(best_class)\n",
    "        return np.array(predictions)\n",
    "\n",
    "scaler = MinMaxScaler()\n",
    "classifier = myClassifier()\n",
    "pipeline = Pipeline([\n",
    "        ('scaler',scaler),\n",
    "        ('classify',classifier)\n",
    "])\n",
    "pipeline.fit(train_xs,train_ys)"
   ]
  },
  {
   "cell_type": "code",
   "execution_count": null,
   "id": "75981b8c-484b-405a-b93c-2e68c8e98d65",
   "metadata": {},
   "outputs": [
    {
     "data": {
      "text/plain": [
       "0.3076923076923077"
      ]
     },
     "execution_count": 4,
     "metadata": {},
     "output_type": "execute_result"
    }
   ],
   "source": [
    "predicted_ys = pipeline.predict(test_xs)\n",
    "accuracy_score(test_ys,predicted_ys)"
   ]
  },
  {
   "cell_type": "markdown",
   "id": "04b8f2fb-c214-4a2f-97b3-16d5cf3b100f",
   "metadata": {},
   "source": [
    "I chose the 'Weapon Type' as my target column because each it has a strong correlation to every other column. Typically each weapon type is going to have unique values in the other columns as each weapon type is more suited for different roles. Sniper rifles typically have larger bullets, higher damage, and higher range whereas pistols have smaller bullets, less damage, higher rate of fire, and less range for example.\n",
    "\n",
    "My model doesn't perform well in this case, it is evident that the dataset size is far too small for my classifier to be of any real use. There are a total of 44 rows, and since we are sampling 70% for our training set from a small dataset means there are likely to be rows with no training data on them. I have seen a really severe problem when the test set contains every instance of a weapon type so the classifier is guaranteed to be wrong. If there were more rows along with more samples for each weapon types then the classifier will perform a lot better as it will have some training data for every weapon type and will be better at figuring out the most likely weapon type in the instances the features are similar or overlapping with other weapon types.\n",
    "\n",
    "I chose the accuracy score metric because it fits perfectly for a multilabel classification. It checks to see if the true y label perfectly matches the predicted y label which is exactly what is needed in this case as I'm attempting to predict the weapon type."
   ]
  },
  {
   "cell_type": "code",
   "execution_count": null,
   "id": "8fc1397e-3baa-4dc7-9304-d83f17394b7a",
   "metadata": {},
   "outputs": [],
   "source": []
  }
 ],
 "metadata": {
  "kernelspec": {
   "display_name": "Python [conda env:machine_learning]",
   "language": "python",
   "name": "conda-env-machine_learning-py"
  },
  "language_info": {
   "codemirror_mode": {
    "name": "ipython",
    "version": 3
   },
   "file_extension": ".py",
   "mimetype": "text/x-python",
   "name": "python",
   "nbconvert_exporter": "python",
   "pygments_lexer": "ipython3",
   "version": "3.11.5"
  }
 },
 "nbformat": 4,
 "nbformat_minor": 5
}
